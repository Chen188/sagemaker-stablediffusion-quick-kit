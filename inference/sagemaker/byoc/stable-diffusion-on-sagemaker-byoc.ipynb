{
 "cells": [
  {
   "cell_type": "markdown",
   "id": "c45d82e1-2919-47fd-8ca9-bf0b2039e663",
   "metadata": {},
   "source": [
    "## 注意事项\n",
    "\n",
    "1. Notebook 使用的环境为 conda_pytorch_p310\n",
    "1. 需要给 SageMaker Notebook Instance 配置push image 到 ECR 的权限，否则无法 push 镜像。\n",
    "1. 如果要使用 \"NotificationConfig\" 中的 SNS 消息通知，需要先配置 ExecuteRole 访问 SNS 的权限。"
   ]
  },
  {
   "cell_type": "markdown",
   "id": "dbcd9d25",
   "metadata": {},
   "source": [
    "### SageMaker Stable diffusion Quick Kit - Inference 部署(ControlNet)\n",
    "   [SageMaker Stable Diffusion Quick Kit](https://github.com/aws-samples/sagemaker-stablediffusion-quick-kit) 提供了一组开箱即用的代码、配置文件，它可以帮助客户在亚马逊云上使用Amazon SageMaker , Lambda, Cloudfront快速构建Stable diffusion AI绘图服务.\n",
    "   \n",
    "   ![架构](https://raw.githubusercontent.com/aws-samples/sagemaker-stablediffusion-quick-kit/main/images/architecture.png)\n",
    "\n",
    "\n",
    "#### 前提条件\n",
    "1. 亚马逊云账号\n",
    "2. 建议使用ml.g4dn.xlarge/ml.g5.xlarge\n",
    "\n",
    "### Notebook部署步骤\n",
    "1. 升级boto3, sagemaker python sdk\n",
    "2. 编译docker image\n",
    "3. 部署AIGC推理服务\n",
    "    * 配置模型参数\n",
    "    * 配置异步推理\n",
    "    * 部署SageMaker Endpoint \n",
    "4. 测试 txt2img, img2img, LoRA 模型\n",
    "5. 清除资源\n"
   ]
  },
  {
   "cell_type": "markdown",
   "id": "ad363191",
   "metadata": {},
   "source": [
    "### 0. 升级boto3, sagemaker python sdk"
   ]
  },
  {
   "cell_type": "code",
   "execution_count": null,
   "id": "80f7d50f",
   "metadata": {
    "tags": []
   },
   "outputs": [],
   "source": [
    "!pip install --upgrade boto3 sagemaker"
   ]
  },
  {
   "cell_type": "code",
   "execution_count": null,
   "id": "3bcf9a6c",
   "metadata": {
    "tags": []
   },
   "outputs": [],
   "source": [
    "#导入对应的库\n",
    "\n",
    "import re\n",
    "import os\n",
    "import json\n",
    "import uuid\n",
    "\n",
    "import numpy as np\n",
    "import pandas as pd\n",
    "from time import gmtime, strftime\n",
    "\n",
    "\n",
    "import boto3\n",
    "import sagemaker\n",
    "\n",
    "from sagemaker import get_execution_role,session\n",
    "\n",
    "role = get_execution_role()\n",
    "\n",
    "\n",
    "sage_session = session.Session()\n",
    "bucket = sage_session.default_bucket()\n",
    "aws_region = boto3.Session().region_name\n",
    "\n",
    "\n",
    "print(f'sagemaker sdk version: {sagemaker.__version__}\\nrole:  {role}  \\nbucket:  {bucket}')"
   ]
  },
  {
   "cell_type": "markdown",
   "id": "7f92154c-daf5-4c8d-af3a-c6a3be393c08",
   "metadata": {
    "tags": []
   },
   "source": [
    "### 1. 准备模型文件\n",
    "\n",
    "从Civitai网站下载safetensors文件，并将格式转换为 Diffusers 支持的格式。"
   ]
  },
  {
   "cell_type": "code",
   "execution_count": null,
   "id": "09da4bb4-4ecf-4742-a9b5-328240a23ff1",
   "metadata": {
    "scrolled": true,
    "tags": []
   },
   "outputs": [],
   "source": [
    "# 更改 work dir\n",
    "%cd ~/SageMaker/sagemaker-stablediffusion-quick-kit/inference/sagemaker/byoc\n",
    "\n",
    "# # 下载模型转换脚本\n",
    "! git clone https://github.com/huggingface/diffusers\n",
    "\n",
    "# 安装依赖包\n",
    "! pip install -e ./diffusers\n",
    "! pip install transformers omegaconf safetensors\n",
    "\n",
    "# 下载模型文件\n",
    "! wget https://civitai.com/api/download/models/16859 -O blueberrymix.safetensors\n"
   ]
  },
  {
   "cell_type": "code",
   "execution_count": null,
   "id": "e2ad5069-61eb-4fbe-9542-66a5a5aa3879",
   "metadata": {
    "scrolled": true,
    "tags": []
   },
   "outputs": [],
   "source": [
    "# 执行模型转换脚本\n",
    "!python diffusers/scripts/convert_original_stable_diffusion_to_diffusers.py \\\n",
    "  --checkpoint_path ./blueberrymix.safetensors \\\n",
    "  --dump_path ./model_output \\\n",
    "  --from_safetensors"
   ]
  },
  {
   "cell_type": "markdown",
   "id": "deeffcfd-c6e7-4026-8a12-b35829666988",
   "metadata": {},
   "source": [
    "查看输出文件，格式类似：\n",
    "```\n",
    "total 32\n",
    "drwxrwxr-x 2 ec2-user ec2-user 4096 Apr 20 03:34 feature_extractor\n",
    "-rw-rw-r-- 1 ec2-user ec2-user  579 Apr 20 03:33 model_index.json\n",
    "drwxrwxr-x 2 ec2-user ec2-user 4096 Apr 20 03:33 safety_checker\n",
    "drwxrwxr-x 2 ec2-user ec2-user 4096 Apr 20 03:33 scheduler\n",
    "drwxrwxr-x 2 ec2-user ec2-user 4096 Apr 20 03:33 text_encoder\n",
    "drwxrwxr-x 2 ec2-user ec2-user 4096 Apr 20 03:33 tokenizer\n",
    "drwxrwxr-x 2 ec2-user ec2-user 4096 Apr 20 03:33 unet\n",
    "drwxrwxr-x 2 ec2-user ec2-user 4096 Apr 20 03:33 vae\n",
    "```"
   ]
  },
  {
   "cell_type": "code",
   "execution_count": null,
   "id": "47150398-54ca-4361-8af3-8c726dab0dd3",
   "metadata": {
    "tags": []
   },
   "outputs": [],
   "source": [
    "!ls -lhR ./models/blueberry"
   ]
  },
  {
   "cell_type": "code",
   "execution_count": null,
   "id": "98d08473-572c-43ba-b4a0-f0f2c5e88e9f",
   "metadata": {
    "tags": []
   },
   "outputs": [],
   "source": [
    "# 上传模型文件到S3\n",
    "real_model_s3_path = 's3://{0}/{1}/assets/blueberry/uncompressed/'.format(bucket, 'stablediffusion')\n",
    "!aws s3 sync ./model_output $real_model_s3_path"
   ]
  },
  {
   "cell_type": "code",
   "execution_count": null,
   "id": "94845e37-1ddf-4a1b-9afd-f4b2cdbca96f",
   "metadata": {
    "tags": []
   },
   "outputs": [],
   "source": [
    "## 查看S3文件\n",
    "!aws s3 ls --recursive $real_model_s3_path"
   ]
  },
  {
   "cell_type": "markdown",
   "id": "327961e3",
   "metadata": {},
   "source": [
    "### 下载LoRA模型文件\n",
    "\n"
   ]
  },
  {
   "cell_type": "code",
   "execution_count": null,
   "id": "5d2a5090",
   "metadata": {
    "tags": []
   },
   "outputs": [],
   "source": [
    "# https://civitai.com/models/14171/cutegirlmix4  , mix4\n",
    "!wget https://civitai.com/api/download/models/16677 -O cute_girl_mix_lora.safetensors\n",
    "\n",
    "# https://civitai.com/models/39174/star-wars-sith-outfit , trigger words: STHOUTFIT\n",
    "!wget https://civitai.com/api/download/models/45884 -O starwar_lora.safetensors\n",
    "\n",
    "!wget https://civitai.com/api/download/models/32988 -O blindbox_lora.safetensors\n",
    "\n",
    "lora_model_s3_path_1 = f's3://{bucket}/stablediffusion/assets/lora/cute_girl_mix_lora.safetensors'\n",
    "lora_model_s3_path_2 = f's3://{bucket}/stablediffusion/assets/lora/starwar_lora.safetensors'\n",
    "lora_model_s3_path_3 = f's3://{bucket}/stablediffusion/assets/lora/blindbox_lora.safetensors'\n",
    "\n",
    "# 上传LoRA模型文件到S3\n",
    "!aws s3 cp cute_girl_mix_lora.safetensors $lora_model_s3_path_1\n",
    "!aws s3 cp starwar_lora.safetensors $lora_model_s3_path_2\n",
    "!aws s3 cp blindbox_lora.safetensors $lora_model_s3_path_3"
   ]
  },
  {
   "cell_type": "code",
   "execution_count": null,
   "id": "2ad7b04c-0343-47a8-94be-21881741cbc4",
   "metadata": {
    "tags": []
   },
   "outputs": [],
   "source": [
    "lora_model_s3_path_1"
   ]
  },
  {
   "cell_type": "markdown",
   "id": "8d2ed87a",
   "metadata": {},
   "source": [
    "### 2. 编译docker image\n",
    "\n",
    "需要给当前的执行环境(Notebook Instance / Studio) 绑定的 IAM role 附加访问 ECR 镜像仓库的权限。\n",
    "\n",
    "测试环境下，可以直接赋予 'AmazonEC2ContainerRegistryFullAccess' 策略。"
   ]
  },
  {
   "cell_type": "code",
   "execution_count": null,
   "id": "43ac3947",
   "metadata": {
    "tags": []
   },
   "outputs": [],
   "source": [
    "!./build_push.sh"
   ]
  },
  {
   "cell_type": "markdown",
   "id": "7a1b902f",
   "metadata": {},
   "source": [
    "### 3. 部署AIGC推理服务"
   ]
  },
  {
   "cell_type": "markdown",
   "id": "a7d87324",
   "metadata": {},
   "source": [
    "#### 3.1 创建dummy model_data 文件(真正的模型使用code/infernece.py进行加载)"
   ]
  },
  {
   "cell_type": "code",
   "execution_count": null,
   "id": "cb439f59",
   "metadata": {
    "tags": []
   },
   "outputs": [],
   "source": [
    "!touch dummy\n",
    "!tar czvf model.tar.gz dummy sagemaker-logo-small.png\n",
    "assets_dir = 's3://{0}/{1}/assets/'.format(bucket, 'stablediffusion')\n",
    "model_data = 's3://{0}/{1}/assets/model.tar.gz'.format(bucket, 'stablediffusion')\n",
    "!aws s3 cp model.tar.gz $assets_dir\n",
    "!rm -f dummy model.tar.gz"
   ]
  },
  {
   "cell_type": "markdown",
   "id": "a8d9157b",
   "metadata": {},
   "source": [
    "#### 3.2 创建 model 配置"
   ]
  },
  {
   "cell_type": "code",
   "execution_count": null,
   "id": "2f10c9c4",
   "metadata": {
    "tags": []
   },
   "outputs": [],
   "source": [
    "\n",
    "boto3_session = boto3.session.Session()\n",
    "current_region=boto3_session.region_name\n",
    "\n",
    "client = boto3.client(\"sts\")\n",
    "account_id=client.get_caller_identity()[\"Account\"]\n",
    "\n",
    "client = boto3.client('sagemaker')\n",
    "\n",
    "#使用步骤2编译好的docker images\n",
    "container = f'{account_id}.dkr.ecr.{current_region}.amazonaws.com/sd-inference-v2'\n",
    "\n",
    "model_data = f's3://{bucket}/stablediffusion/assets/model.tar.gz'\n",
    "\n",
    "\n",
    "model_name = 'AIGC-Quick-Kit-' +  strftime(\"%Y-%m-%d-%H-%M-%S\", gmtime())\n",
    "role = get_execution_role()\n",
    "\n",
    "\n",
    "# model_name: 支持多种格式\n",
    "#  - 'runwayml/stable-diffusion-v1-5' 从 hf 下载预训练模型\n",
    "#  - 's3://bkt/folder/blueberrymix_model.tar.gz' 从s3下载模型压缩文件\n",
    "#  - 's3://bkt/folder/' 从 s3 文件夹下载未压缩模型文件\n",
    "primary_container = {\n",
    "    'Image': container,\n",
    "    'ModelDataUrl': model_data, # fake model file\n",
    "    'Environment':{\n",
    "        's3_bucket': bucket,\n",
    "        'control_net_enable': 'false',\n",
    "        'watermarket': 'false',\n",
    "        'model_name': real_model_s3_path, # 真正的 SD 模型文件,\n",
    "        # 'model_name': 'sakistriker/Anything_V5_PrtRE', # 真正的 SD 模型文件,\n",
    "        'lora_models': json.dumps({\n",
    "            'cutegirl': lora_model_s3_path_1,  # model_name: uri\n",
    "            'starwar': lora_model_s3_path_2,\n",
    "            'blindbox_lora': lora_model_s3_path_3,\n",
    "        })\n",
    "    }\n",
    "}\n",
    "\n",
    "create_model_response = client.create_model(\n",
    "    ModelName = model_name,\n",
    "    ExecutionRoleArn = role,\n",
    "    PrimaryContainer = primary_container,\n",
    ")\n",
    "\n",
    "create_model_response"
   ]
  },
  {
   "cell_type": "code",
   "execution_count": null,
   "id": "410970d6",
   "metadata": {
    "tags": []
   },
   "outputs": [],
   "source": [
    "_time_tag = strftime(\"%Y-%m-%d-%H-%M-%S\", gmtime())\n",
    "_variant_name =  'AIGC-Quick-Kit-'+ _time_tag\n",
    "endpoint_config_name = 'AIGC-Quick-Kit-' +  _time_tag\n",
    "\n",
    "response = client.create_endpoint_config(\n",
    "    EndpointConfigName=endpoint_config_name,\n",
    "    ProductionVariants=[\n",
    "        {\n",
    "            'VariantName': _variant_name,\n",
    "            'ModelName': model_name,\n",
    "            'InitialInstanceCount': 1,\n",
    "            'InstanceType': 'ml.g4dn.2xlarge',\n",
    "            'InitialVariantWeight': 1\n",
    "        },\n",
    "    ]\n",
    "    ,\n",
    "    AsyncInferenceConfig={\n",
    "        'OutputConfig': {\n",
    "            'S3OutputPath': f's3://{bucket}/stablediffusion/asyncinvoke/out/',\n",
    "            # \"NotificationConfig\": {\n",
    "            #     \"SuccessTopic\": \"arn:aws:sns:us-east-1:022346938362:test-sagemaker-aysnc\",\n",
    "            #     \"ErrorTopic\": \"arn:aws:sns:us-east-1:022346938362:test-sagemaker-aysnc\",\n",
    "            # }\n",
    "        },\n",
    "    }\n",
    ")"
   ]
  },
  {
   "cell_type": "markdown",
   "id": "93fa136a",
   "metadata": {},
   "source": [
    "#### 3.3 部署SageMaker endpoint"
   ]
  },
  {
   "cell_type": "code",
   "execution_count": null,
   "id": "2ca15a19",
   "metadata": {
    "tags": []
   },
   "outputs": [],
   "source": [
    "endpoint_name = f'AIGC-Quick-Kit-{str(uuid.uuid4())}'\n",
    "\n",
    "\n",
    "response = client.create_endpoint(\n",
    "    EndpointName=endpoint_name,\n",
    "    EndpointConfigName=endpoint_config_name,\n",
    ")\n",
    "\n",
    "\n",
    "\n",
    "print(f'终端节点:{endpoint_name} 正在创建中，首次启动中会加载模型，请耐心等待, 请在控制台上查看状态')\n"
   ]
  },
  {
   "cell_type": "markdown",
   "id": "56304d8c",
   "metadata": {},
   "source": [
    "### 4. 测试"
   ]
  },
  {
   "cell_type": "markdown",
   "id": "8398d403",
   "metadata": {},
   "source": [
    "### 4.1 辅助方法 "
   ]
  },
  {
   "cell_type": "code",
   "execution_count": null,
   "id": "6c9bec0e",
   "metadata": {
    "tags": []
   },
   "outputs": [],
   "source": [
    "import time\n",
    "import uuid\n",
    "import io\n",
    "import traceback\n",
    "from PIL import Image\n",
    "\n",
    "\n",
    "s3_resource = boto3.resource('s3')\n",
    "\n",
    "def get_bucket_and_key(s3uri):\n",
    "    pos = s3uri.find('/', 5)\n",
    "    bucket = s3uri[5 : pos]\n",
    "    key = s3uri[pos + 1 : ]\n",
    "    return bucket, key\n",
    "\n",
    "\n",
    "def predict_async(endpoint_name,payload):\n",
    "    print('Start time: ', time.strftime(\"%H:%M:%S\"))\n",
    "    runtime_client = boto3.client('runtime.sagemaker')\n",
    "    input_file=str(uuid.uuid4())+\".json\"\n",
    "    s3_resource = boto3.resource('s3')\n",
    "    s3_object = s3_resource.Object(bucket, f'stablediffusion/asyncinvoke/input/{input_file}')\n",
    "    payload_data = json.dumps(payload).encode('utf-8')\n",
    "    s3_object.put( Body=bytes(payload_data))\n",
    "    input_location=f's3://{bucket}/stablediffusion/asyncinvoke/input/{input_file}'\n",
    "    print(f'input_location: {input_location}')\n",
    "    response = runtime_client.invoke_endpoint_async(\n",
    "        EndpointName=endpoint_name,\n",
    "        InputLocation=input_location\n",
    "    )\n",
    "    result =response.get(\"OutputLocation\",'')\n",
    "    print('result', result)\n",
    "    wait_async_result(result)\n",
    "    print('End time: ', time.strftime(\"%H:%M:%S\"))\n",
    "\n",
    "\n",
    "def s3_object_exists(s3_path):\n",
    "    \"\"\"\n",
    "    s3_object_exists\n",
    "    \"\"\"\n",
    "    try:\n",
    "        s3 = boto3.client('s3')\n",
    "        base_name=os.path.basename(s3_path)\n",
    "        _,ext_name=os.path.splitext(base_name)\n",
    "        bucket,key=get_bucket_and_key(s3_path)\n",
    "        \n",
    "        s3.head_object(Bucket=bucket, Key=key)\n",
    "        return True\n",
    "    except Exception as ex:\n",
    "        # print(\"job is not completed, waiting...\")   \n",
    "        return False\n",
    "    \n",
    "def draw_image(output_location):\n",
    "    try:\n",
    "        bucket, key = get_bucket_and_key(output_location)\n",
    "        obj = s3_resource.Object(bucket, key)\n",
    "        body = obj.get()['Body'].read().decode('utf-8') \n",
    "        predictions = json.loads(body)\n",
    "        print(predictions['result'])\n",
    "        for image in predictions['result']:\n",
    "            bucket, key = get_bucket_and_key(image)\n",
    "            obj = s3_resource.Object(bucket, key)\n",
    "            bytes = obj.get()['Body'].read()\n",
    "            image = Image.open(io.BytesIO(bytes))\n",
    "            #resize image to 50% size\n",
    "            half = 0.5\n",
    "            out_image = image.resize( [int(half * s) for s in image.size] )\n",
    "            out_image.show()\n",
    "    except Exception as e:\n",
    "        pass\n",
    "        # print(\"result is not completed, waiting...\")   \n",
    "    \n",
    "\n",
    "    \n",
    "def wait_async_result(output_location,timeout=60):\n",
    "    current_time=0\n",
    "    while current_time<timeout:\n",
    "        if s3_object_exists(output_location):\n",
    "            print(\"have async result\")\n",
    "            draw_image(output_location)\n",
    "            break\n",
    "        else:\n",
    "            time.sleep(5)\n",
    "\n",
    "            \n",
    "def check_sendpoint_status(endpoint_name):\n",
    "    client = boto3.client('sagemaker')\n",
    "    response = client.describe_endpoint(\n",
    "        EndpointName=endpoint_name\n",
    "    )\n",
    "    if response['EndpointStatus'] !='InService':\n",
    "        raise Exception (f'{endpoint_name} not ready , please wait....')\n",
    "    else:\n",
    "        status = response['EndpointStatus']\n",
    "        print(f'{endpoint_name} is ready, status: {status}')"
   ]
  },
  {
   "cell_type": "markdown",
   "id": "cff8556d",
   "metadata": {},
   "source": [
    "#### 检查endpoint 状态"
   ]
  },
  {
   "cell_type": "code",
   "execution_count": null,
   "id": "66d3de15",
   "metadata": {
    "tags": []
   },
   "outputs": [],
   "source": [
    "check_sendpoint_status(endpoint_name)"
   ]
  },
  {
   "cell_type": "markdown",
   "id": "c8f354b0",
   "metadata": {},
   "source": [
    "### 4.1 图生图测试"
   ]
  },
  {
   "cell_type": "code",
   "execution_count": null,
   "id": "3f440399",
   "metadata": {
    "tags": []
   },
   "outputs": [],
   "source": [
    "# with open('图片base63编码.txt', 'r') as f:\n",
    "#     b_64 = f.read()\n",
    "\n",
    "payload={\n",
    "    \"prompt\": \"best quality, 1girl\",\n",
    "    \"negative_prompt\":\"\",\n",
    "    \"steps\": 40,\n",
    "    \"sampler\":\"dpm2_a\",\n",
    "    \"seed\":2589384173, # use -1 for random\n",
    "    \"height\": 512, \n",
    "    \"width\": 512,\n",
    "    \"count\":2,\n",
    "    \"guidance_scale\": 7,\n",
    "    \"task_type\": \"img2img\", # or txt2img\n",
    "    \"init_image\": \"https://i.pinimg.com/originals/bd/61/7c/bd617c144e974211720214ab9ccaf5a8.jpg\" # or base64 str    \n",
    "    # \"init_image\": b_64,\n",
    "}\n",
    "\n",
    "predict_async(endpoint_name,payload)\n"
   ]
  },
  {
   "cell_type": "markdown",
   "id": "cc83f4db-d1fc-4938-90ae-5a6bf2554ac7",
   "metadata": {
    "tags": []
   },
   "source": [
    "### 4.2 LoRA 测试 "
   ]
  },
  {
   "cell_type": "code",
   "execution_count": null,
   "id": "cad8c889-abe8-4d78-96e1-d24f38063cfb",
   "metadata": {
    "tags": []
   },
   "outputs": [],
   "source": [
    "payload={\n",
    "    \"prompt\": \"hinatsuru ai, (((main dress style))), 8k, masterpiece, absurdres, anime, screencap,\",\n",
    "    \"negative_prompt\":\"leather, lowres, bad anatomy, bad hands, text, error, missing fingers, extra digit, fewer digits, cropped, worst quality, low quality, normal quality, jpeg artifacts, signature, watermark, username, blurry, blurry, bad hands, missing fingers, error, cropped, normal quality, fewer digit, owres, extra digit, worst quality, jpeg artifacts, lowres, bad feet, disfigured, missing arms, long neck, ugly, bad proportions, multiple breasts, fused fingers, extra legs, poorly drawn hands, cloned face, malformed hands, mutated hands and fingers, missing limb, malformed mutated, unclear eyes, fused hand, disappearing thigh, disappearing calf, bad asshole, bad pussy, bad body, on hand with less than 5 fingers, crown , stacked torses, stacked hands, totem pole\",\n",
    "    \"steps\": 25,\n",
    "    \"sampler\":\"euler_a\",\n",
    "    \"seed\": 2073839452, # use -1 for random\n",
    "    \"height\": 768,\n",
    "    \"width\": 512,\n",
    "    \"count\": 1,\n",
    "    \"guidance_scale\": 7,\n",
    "    \"task_type\": \"txt2img\", # or img2img\n",
    "}\n",
    "\n",
    "predict_async(endpoint_name,payload)"
   ]
  },
  {
   "cell_type": "code",
   "execution_count": null,
   "id": "2eabf023-c0b1-46e7-b90e-b1d8ca749fe0",
   "metadata": {
    "tags": []
   },
   "outputs": [],
   "source": [
    "payload[\"lora\"] = {\n",
    "    \"blindbox_lora\": 1.3,\n",
    "    \"starwar\": 0.1\n",
    "}\n",
    "\n",
    "predict_async(endpoint_name,payload)"
   ]
  },
  {
   "cell_type": "code",
   "execution_count": null,
   "id": "1b5ab30f-c255-4c26-8748-a69be96f4bd8",
   "metadata": {
    "tags": []
   },
   "outputs": [],
   "source": [
    "payload[\"lora\"] = {}\n",
    "\n",
    "predict_async(endpoint_name,payload)"
   ]
  },
  {
   "cell_type": "markdown",
   "id": "ff4876ee-23d1-4ed8-af08-7cb629cefeab",
   "metadata": {
    "tags": []
   },
   "source": [
    "### 4.3 Denoising 强度测试 "
   ]
  },
  {
   "cell_type": "code",
   "execution_count": null,
   "id": "7969bfc1-a7a5-459e-acb1-c4476c29cfcf",
   "metadata": {
    "tags": []
   },
   "outputs": [],
   "source": [
    "payload[\"task_type\"] = 'img2img'\n",
    "payload[\"init_image\"] = \"https://i.pinimg.com/originals/bd/61/7c/bd617c144e974211720214ab9ccaf5a8.jpg\" # or base64 str    \n",
    "payload[\"strength\"] = 0.9\n",
    "\n",
    "predict_async(endpoint_name,payload)"
   ]
  },
  {
   "cell_type": "code",
   "execution_count": null,
   "id": "9cc90b15-992f-4596-8814-794b1be13cf7",
   "metadata": {
    "tags": []
   },
   "outputs": [],
   "source": [
    "payload[\"strength\"] = 0.6\n",
    "predict_async(endpoint_name,payload)"
   ]
  },
  {
   "cell_type": "markdown",
   "id": "b7171c19-e1fa-42f8-b925-8d0ef4eb3926",
   "metadata": {
    "tags": []
   },
   "source": [
    "### 4.3 Sampler 测试"
   ]
  },
  {
   "cell_type": "markdown",
   "id": "4279d675-c980-4ecc-8ab4-c493c299b9d9",
   "metadata": {},
   "source": [
    "Sampler 参数的映射关系：\n",
    "\n",
    "    \"euler_a\": Euler a\n",
    "    \"eular\": Euler\n",
    "    \"heun\": Heun\n",
    "    \"lms\": LMS\n",
    "    \"lms_k\": LMS\n",
    "    \"dpm2\": DPM2\n",
    "    \"dpm2_a\": DPM2 a\n",
    "    \"dpmpp_2s_a\": DPM++ 2S a\n",
    "    \"dpmpp_2m\": DPM++ 2M\n",
    "    \"dpmpp_2m_k\": DPM++ 2M  Karras\n",
    "    \"dpmpp_sde\": DPM++ SDE\n",
    "    \"dpmpp_sde_k\": DPM++ SDE Karras\n",
    "    \"ddim\": DDIM\n",
    "    \"plms\": PLMS,  # plms = pndm config.skip_prk_steps, ref: https://github.com/huggingface/diffusers/issues/960"
   ]
  },
  {
   "cell_type": "code",
   "execution_count": null,
   "id": "8d8a349a-f1f0-4107-bf55-1b145d8d7962",
   "metadata": {
    "tags": []
   },
   "outputs": [],
   "source": [
    "payload={\n",
    "    \"prompt\": \"hinatsuru ai, (((main dress style))), 8k, masterpiece, absurdres, anime, screencap,\",\n",
    "    \"negative_prompt\":\"leather, lowres, bad anatomy, bad hands, text, error, missing fingers, extra digit, fewer digits, cropped, worst quality, low quality, normal quality, jpeg artifacts, signature, watermark, username, blurry, blurry, bad hands, missing fingers, error, cropped, normal quality, fewer digit, owres, extra digit, worst quality, jpeg artifacts, lowres, bad feet, disfigured, missing arms, long neck, ugly, bad proportions, multiple breasts, fused fingers, extra legs, poorly drawn hands, cloned face, malformed hands, mutated hands and fingers, missing limb, malformed mutated, unclear eyes, fused hand, disappearing thigh, disappearing calf, bad asshole, bad pussy, bad body, on hand with less than 5 fingers, crown , stacked torses, stacked hands, totem pole\",\n",
    "    \"steps\": 25,\n",
    "    \"sampler\":\"\",\n",
    "    \"seed\": 2073839452, # use -1 for random\n",
    "    \"height\": 768,\n",
    "    \"width\": 512,\n",
    "    \"count\": 1,\n",
    "    \"guidance_scale\": 7,\n",
    "    \"task_type\": \"txt2img\", # or img2img\n",
    "}\n",
    "\n",
    "for sampler in ['dpmpp_2m', 'dpmpp_2m_k', 'dpmpp_sde', 'dpmpp_sde_k']:\n",
    "    payload['sampler'] = sampler\n",
    "    predict_async(endpoint_name,payload)"
   ]
  },
  {
   "cell_type": "markdown",
   "id": "02f9b2ab-648e-4cf1-a7e6-025afe102d2e",
   "metadata": {},
   "source": [
    "### 4.4 错误处理\n",
    "\n",
    "异步调用的错误处理可以通过 SNS Topic 实现(如之前步骤中的 NotificationConfig 设置)。SNS的消费端可以是 Lambda、EMail、http endpoint 等多种类型。推理成功和失败的时间都会即时推送到对应的消费端。\n",
    "\n",
    "参考的错误数据格式：\n",
    "\n",
    "```json\n",
    "{\"awsRegion\":\"us-east-1\",\"eventTime\":\"2023-05-12T04:09:43.422Z\",\"receivedTime\":\"2023-05-12T04:09:43.365Z\",\"invocationStatus\":\"Failed\",\"failureReason\":\"ClientError: Received server error (500) from model. See the SageMaker Endpoint logs in your account for more information.\",\"requestParameters\":{\"endpointName\":\"AIGC-Quick-Kit-8f2fd2b6-39e1-44a0-8668-627a3e49d833\",\"inputLocation\":\"s3://sagemaker-us-east-1-xxxx/stablediffusion/asyncinvoke/input/b9fc9443-1474-4fb0-ad55-xxxxx.json\"},\"responseParameters\":{},\"inferenceId\":\"8d201f31-eb05-45e2-871f-e0f716f40a6b\",\"eventVersion\":\"1.0\",\"eventSource\":\"aws:sagemaker\",\"eventName\":\"InferenceResult\"}\n",
    "```"
   ]
  },
  {
   "cell_type": "code",
   "execution_count": null,
   "id": "3f7e9f61-91a6-4f0c-a142-92511fab9e36",
   "metadata": {
    "tags": []
   },
   "outputs": [],
   "source": [
    "with open('图片base63编码.txt', 'r') as f:\n",
    "    b_64 = f.read()\n",
    "\n",
    "payload={\n",
    "    \"prompt\": \"best quality, 1girl\",\n",
    "    \"negative_prompt\":\"\",\n",
    "    \"steps\": 20,\n",
    "    \"sampler\":\"dpm2_a\",\n",
    "    \"seed\":2589384173, # use -1 for random\n",
    "    \"height\": 512, \n",
    "    \"width\": 512,\n",
    "    \"count\":1,\n",
    "    \"guidance_scale\": 7,\n",
    "    \"task_type\": \"img2img\", # or txt2img\n",
    "    # \"init_image\": \"https://i.pinimg.com/originals/bd/61/7c/bd617c144e974211720214ab9ccaf5a8.jpg\" # or base64 str    \n",
    "    \"init_image\": \"abcdxxxx\" + b_64,\n",
    "}\n",
    "\n",
    "predict_async(endpoint_name,payload)\n"
   ]
  },
  {
   "cell_type": "markdown",
   "id": "541cf08b",
   "metadata": {},
   "source": [
    "### 5 清除资源"
   ]
  },
  {
   "cell_type": "code",
   "execution_count": null,
   "id": "b6b996ae",
   "metadata": {
    "tags": []
   },
   "outputs": [],
   "source": [
    "response = client.delete_endpoint(\n",
    "    EndpointName=endpoint_name\n",
    "    \n",
    ")\n",
    "\n",
    "response = client.delete_endpoint_config(\n",
    "    EndpointConfigName=endpoint_config_name\n",
    ")\n",
    "\n",
    "\n",
    "print(f'终端节点:{endpoint_name} 已经被清除，请在控制台上查看状态')\n"
   ]
  },
  {
   "cell_type": "code",
   "execution_count": null,
   "id": "262a998e",
   "metadata": {},
   "outputs": [],
   "source": []
  }
 ],
 "metadata": {
  "kernelspec": {
   "display_name": "conda_pytorch_p310",
   "language": "python",
   "name": "conda_pytorch_p310"
  },
  "language_info": {
   "codemirror_mode": {
    "name": "ipython",
    "version": 3
   },
   "file_extension": ".py",
   "mimetype": "text/x-python",
   "name": "python",
   "nbconvert_exporter": "python",
   "pygments_lexer": "ipython3",
   "version": "3.10.10"
  }
 },
 "nbformat": 4,
 "nbformat_minor": 5
}
