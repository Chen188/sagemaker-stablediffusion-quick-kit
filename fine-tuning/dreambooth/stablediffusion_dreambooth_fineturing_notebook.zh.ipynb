{
 "cells": [
  {
   "cell_type": "markdown",
   "id": "0f0a5255",
   "metadata": {
    "pycharm": {
     "name": "#%% md\n"
    }
   },
   "source": [
    "### Dreambooth 模型微调\n",
    "DreamBooth 是一种深度学习生成模型，用于微调现有的文本到图像模型，由 Google Research 和波士顿大学的研究人员于 2022 年开发。最初使用 Google 自己的 Imagen 文本到图像模型开发，DreamBooth 的实现可以应用到其他文本到图像模型，它可以让模型通过的三到五张图像对一个主题进行训练后生成更精细和个性化的输出。\n",
    "\n",
    "![](../../images/dreambooth.png)\n",
    "\n",
    "接下来我们将使在笔记本中docker中使用DreamBooth 来微调我们的 stable diffusion 模型.\n",
    "\n",
    "#### 微调步骤\n",
    "1. 设置train.sh,微调参数\n",
    "2. 准备微调图片\n",
    "3. 构建 dreambooth fine-tuning 镜像\n",
    "4. 使用docker 运行微调任务\n",
    "5. 查看微调结果\n",
    "6. 部署微调模型到SageMaker Endpoint"
   ]
  },
  {
   "cell_type": "code",
   "execution_count": 1,
   "id": "f61d2347",
   "metadata": {},
   "outputs": [
    {
     "name": "stdout",
     "output_type": "stream",
     "text": [
      "sagemaker-us-east-1-596030579944\n"
     ]
    }
   ],
   "source": [
    "import time\n",
    "import boto3\n",
    "import sagemaker\n",
    "account_id = boto3.client('sts').get_caller_identity().get('Account')\n",
    "region_name = boto3.session.Session().region_name\n",
    "\n",
    "sagemaker_session = sagemaker.Session()\n",
    "bucket = sagemaker_session.default_bucket()\n",
    "\n",
    "print(bucket)"
   ]
  },
  {
   "cell_type": "markdown",
   "id": "540839e6",
   "metadata": {
    "pycharm": {
     "name": "#%% md\n"
    }
   },
   "source": [
    "#### 1. 参数设置\n",
    "所有参数都在train.sh中\n",
    "\n",
    "关键参数\n",
    "   * --class_prompt \"photo of a man\"\n",
    "   * --instance_prompt \"photo of a zwx  man\"\n",
    "   * --max_train_steps 300\n",
    "   * --learning_rate 2e-06\n",
    "\n",
    "可以根据需要进行修改"
   ]
  },
  {
   "cell_type": "code",
   "execution_count": 3,
   "id": "d70a7fb3",
   "metadata": {
    "pycharm": {
     "name": "#%%\n"
    },
    "tags": []
   },
   "outputs": [
    {
     "name": "stdout",
     "output_type": "stream",
     "text": [
      "#!/bin/bash\n",
      "export LD_LIBRARY_PATH=${LD_LIBRARY_PATH}:/opt/conda/lib/\n",
      "export PYTORCH_CUDA_ALLOC_CONF=max_split_size_mb:32\n",
      "mkdir -p /opt/ml/input/data/\n",
      "python train_dreambooth.py  --attention xformers      \\\n",
      "            --class_data_dir /opt/ml/input/data/class_images/   \\\n",
      "            --class_prompt \"photo of a man\"    \\\n",
      "            --gradient_accumulation_steps 1  \\\n",
      "            --gradient_checkpointing True      \\\n",
      "            --instance_data_dir /opt/ml/input/data/images/    \\\n",
      "            --instance_prompt \"photo of a zwx  man\"    \\\n",
      "            --learning_rate 2e-06       \\\n",
      "            --lr_scheduler constant        \\\n",
      "            --lr_warmup_steps 0     \\\n",
      "            --max_train_steps 300   \\\n",
      "            --mixed_precision fp16       \\\n",
      "            --model_name  aws-trained-dreambooth-model    \\\n",
      "            --models_path /opt/ml/model/     \\\n",
      "            --not_cache_latents True   \\\n",
      "            --num_class_images 50       \\\n",
      "            --pretrained_model_name_or_path runwayml/stable-diffusion-v1-5    \\\n",
      "            --prior_loss_weight 0.5    \\\n",
      "            --resolution 512    \\\n",
      "            --sample_batch_size 1    \\\n",
      "            --save_steps 300      \\\n",
      "            --save_use_epochs False   \\\n",
      "            --train_batch_size 1       \\\n",
      "            --train_text_encoder False    \\\n",
      "            --use_8bit_adam True    \\\n",
      "            --use_ema True   \\\n",
      "            --with_prior_preservation True"
     ]
    }
   ],
   "source": [
    "!cat train.sh"
   ]
  },
  {
   "cell_type": "markdown",
   "id": "44032c24",
   "metadata": {
    "pycharm": {
     "name": "#%% md\n"
    }
   },
   "source": [
    "#### 2. 准备微调的图片\n",
    "请下载预先准备的图片"
   ]
  },
  {
   "cell_type": "code",
   "execution_count": 5,
   "id": "47c8e92f",
   "metadata": {},
   "outputs": [
    {
     "name": "stdout",
     "output_type": "stream",
     "text": [
      "  % Total    % Received % Xferd  Average Speed   Time    Time     Time  Current\n",
      "                                 Dload  Upload   Total   Spent    Left  Speed\n",
      "100 1297k  100 1297k    0     0  13.1M      0 --:--:-- --:--:-- --:--:-- 13.1M\n",
      "image-1.jpg  image-2.jpg  image-3.jpg  image-6.jpg  image-7.jpg  image-8.jpg\n"
     ]
    }
   ],
   "source": [
    "#请以现场指导人员提供的图片地址为准\n",
    "!curl https://dfjcgkift2mhn.cloudfront.net/aigc/images.tgz | tar -xz \n",
    "!ls images/"
   ]
  },
  {
   "cell_type": "markdown",
   "id": "b5954abc",
   "metadata": {
    "pycharm": {
     "name": "#%% md\n"
    }
   },
   "source": [
    "#### 3. 构建 dreambooth fine-tuning 镜像\n",
    "  使用预先定义的镜像，将修改过的train.sh和image 复制到镜像中"
   ]
  },
  {
   "cell_type": "code",
   "execution_count": 8,
   "id": "5a71449e",
   "metadata": {
    "pycharm": {
     "name": "#%%\n"
    },
    "tags": []
   },
   "outputs": [
    {
     "name": "stdout",
     "output_type": "stream",
     "text": [
      "Using default tag: latest\n",
      "latest: Pulling from o7x6j3x6/sd-dreambooth-finetuning-v2\n",
      "Digest: sha256:0140c9f9650458d39f63c3d4ada64eee96984b955117bea59db9749f031b3403\n",
      "Status: Image is up to date for public.ecr.aws/o7x6j3x6/sd-dreambooth-finetuning-v2:latest\n",
      "public.ecr.aws/o7x6j3x6/sd-dreambooth-finetuning-v2:latest\n",
      "WARNING! Using --password via the CLI is insecure. Use --password-stdin.\n",
      "WARNING! Your password will be stored unencrypted in /home/ec2-user/.docker/config.json.\n",
      "Configure a credential helper to remove this warning. See\n",
      "https://docs.docker.com/engine/reference/commandline/login/#credentials-store\n",
      "\n",
      "Login Succeeded\n",
      "Cloning into 'sd_dreambooth_extension'...\n",
      "remote: Enumerating objects: 1941, done.\u001b[K\n",
      "remote: Counting objects: 100% (1941/1941), done.\u001b[K\n",
      "remote: Compressing objects: 100% (710/710), done.\u001b[K\n",
      "remote: Total 1941 (delta 1255), reused 1845 (delta 1166), pack-reused 0\u001b[K\n",
      "Receiving objects: 100% (1941/1941), 10.15 MiB | 25.54 MiB/s, done.\n",
      "Resolving deltas: 100% (1255/1255), done.\n",
      "Sending build context to Docker daemon  35.19MB\n",
      "Step 1/7 : FROM public.ecr.aws/o7x6j3x6/sd-dreambooth-finetuning-v2\n",
      " ---> 1247d3df8c63\n",
      "Step 2/7 : RUN curl -L https://github.com/peak/s5cmd/releases/download/v2.0.0/s5cmd_2.0.0_Linux-64bit.tar.gz | tar -xz && mv s5cmd /opt/conda/bin/\n",
      " ---> Using cache\n",
      " ---> b2f61b097ab2\n",
      "Step 3/7 : RUN mkdir -p /opt/ml/input/data/images\n",
      " ---> Running in 053736cd578d\n",
      "Removing intermediate container 053736cd578d\n",
      " ---> c35e9e3b0944\n",
      "Step 4/7 : COPY images/ /opt/ml/input/data/images/\n",
      " ---> 71c18a54a1eb\n",
      "Step 5/7 : COPY ./sd_code/ /opt/ml/code/\n",
      " ---> 2ff8ea821714\n",
      "Step 6/7 : COPY train.sh /opt/ml/code/\n",
      " ---> c9d363875852\n",
      "Step 7/7 : COPY train_dreambooth.py /opt/ml/code/\n",
      " ---> 7f15974cfa4f\n",
      "Successfully built 7f15974cfa4f\n",
      "Successfully tagged sd-dreambooth-finetuning-v2:latest\n",
      "The push refers to repository [596030579944.dkr.ecr.us-east-1.amazonaws.com/sd-dreambooth-finetuning-v2]\n",
      "\n",
      "\u001b[1Bb993c138: Preparing \n",
      "\u001b[1Be3b7b6e9: Preparing \n",
      "\u001b[1B0cb6d053: Preparing \n",
      "\u001b[1Bfa1e2262: Preparing \n",
      "\u001b[1B63027db3: Preparing \n",
      "\u001b[1B0655598c: Preparing \n",
      "\u001b[1Bf59889c2: Preparing \n",
      "\u001b[1B40d160e1: Preparing \n",
      "\u001b[1B34627d9f: Preparing \n",
      "\u001b[1B1fdc41dc: Preparing \n",
      "\u001b[1B49a33433: Preparing \n",
      "\u001b[1B3c0791cb: Preparing \n",
      "\u001b[1B3504c9fd: Preparing \n",
      "\u001b[1Bdfac196e: Preparing \n",
      "\u001b[1B4e364cea: Preparing \n",
      "\u001b[1B3a721f8b: Preparing \n",
      "\u001b[1B1f422c40: Preparing \n",
      "\u001b[12B59889c2: Waiting g \n",
      "\u001b[1B4f87f8e7: Preparing \n",
      "\u001b[13B0d160e1: Waiting g \n",
      "\u001b[1B88890620: Preparing \n",
      "\u001b[1Bbfa15408: Preparing \n",
      "\u001b[1B0648b8c6: Preparing \n",
      "\u001b[1Ba50e7b38: Preparing \n",
      "\u001b[23Bcb6d053: Pushed   33.62MB/33.55MB\u001b[23A\u001b[2K\u001b[23A\u001b[2K\u001b[23A\u001b[2K\u001b[21A\u001b[2K\u001b[23A\u001b[2K\u001b[20A\u001b[2K\u001b[18A\u001b[2K\u001b[14A\u001b[2K\u001b[12A\u001b[2K\u001b[9A\u001b[2K\u001b[5A\u001b[2K\u001b[22A\u001b[2K\u001b[23A\u001b[2K\u001b[23A\u001b[2K\u001b[23A\u001b[2K\u001b[23A\u001b[2K\u001b[23A\u001b[2K\u001b[23A\u001b[2K\u001b[23A\u001b[2K\u001b[23A\u001b[2K\u001b[23A\u001b[2K\u001b[23A\u001b[2Klatest: digest: sha256:73511a021ffe544f9588a40733b7f30124600202021f3b631482db64197b3b9f size: 5592\n"
     ]
    }
   ],
   "source": [
    "!./build_push.sh"
   ]
  },
  {
   "cell_type": "markdown",
   "id": "386ab476",
   "metadata": {
    "pycharm": {
     "name": "#%% md\n"
    }
   },
   "source": [
    "#### 4. 模型微调\n",
    "\n",
    "   打开终端运行\n",
    "  \n",
    "   ```bash\n",
    "      docker run --runtime=nvidia -e NVIDIA_VISIBLE_DEVICES=all  -ti sd-dreambooth-finetuning-v2 train.sh&\n",
    "   ```\n",
    "   * 如果训练中间出现了空间不足，可以使用以下代码将/var/lib/docker 迁移到/home/ec2-user/SageMaker目录\n",
    "   ```bash\n",
    "       sudo systemctl stop docker\n",
    "       sudo systemctl stop docker.socket \n",
    "       sudo mv /var/lib/docker /home/ec2-user/SageMaker \n",
    "       sudo ln -s /home/ec2-user/SageMaker/docker /var/lib/docker \n",
    "       sudo systemctl start docker.socket\n",
    "       sudo systemctl start docker\n",
    "   ```\n",
    "  "
   ]
  },
  {
   "cell_type": "markdown",
   "id": "dcdfa2da",
   "metadata": {
    "pycharm": {
     "name": "#%% md\n"
    }
   },
   "source": [
    "#### 5. 查看微调效果测试\n",
    "  "
   ]
  },
  {
   "cell_type": "code",
   "execution_count": null,
   "id": "ca43aef6",
   "metadata": {},
   "outputs": [],
   "source": [
    "def draw_image(response):\n",
    "    try:\n",
    "        bucket, key = get_bucket_and_key(response.output_path)\n",
    "        obj = s3_resource.Object(bucket, key)\n",
    "        body = obj.get()['Body'].read().decode('utf-8') \n",
    "        predictions = json.loads(body)['result']\n",
    "        print(predictions)\n",
    "        for prediction in predictions:\n",
    "            bucket, key = get_bucket_and_key(prediction)\n",
    "            obj = s3_resource.Object(bucket, key)\n",
    "            bytes = obj.get()['Body'].read()\n",
    "            image = Image.open(io.BytesIO(bytes))\n",
    "            image.show()\n",
    "    except Exception as e:\n",
    "        traceback.print_exc()\n",
    "        print(e)"
   ]
  },
  {
   "cell_type": "code",
   "execution_count": 12,
   "id": "ab56f59a",
   "metadata": {},
   "outputs": [],
   "source": [
    "#请修改model_floder\n",
    "model_floder=\"\"\n",
    "for count in range(1,6):\n",
    "    if model_floder!=\"\":\n",
    "        print(f's3://{bucket}/<model floder>/samples/sample-{count}.jpg')\n",
    "        draw_image(f's3://{bucket}/<model floder>/samples/sample-{count}.jpg')"
   ]
  },
  {
   "cell_type": "markdown",
   "id": "f6fab213",
   "metadata": {
    "pycharm": {
     "name": "#%% md\n"
    }
   },
   "source": [
    "#### 6. 部署微调模型到SageMaker Endpoint\n",
    "  "
   ]
  },
  {
   "cell_type": "code",
   "execution_count": 13,
   "id": "e98ae00c",
   "metadata": {
    "pycharm": {
     "name": "#%%\n"
    }
   },
   "outputs": [
    {
     "name": "stdout",
     "output_type": "stream",
     "text": [
      "s3://sagemaker-us-east-1-596030579944//samples/sample-5.jpg\n"
     ]
    }
   ],
   "source": [
    "#回到4.1 部署Stable Diffusion 模型 ,将andite/anything-v4.0替换为你fine tuning后的模型\n",
    "framework_version = '1.10'\n",
    "py_version = 'py38'\n",
    "\n",
    "model_environment = {\n",
    "    'SAGEMAKER_MODEL_SERVER_TIMEOUT':'600', \n",
    "    'SAGEMAKER_MODEL_SERVER_WORKERS': '1', \n",
    "    #'model_name':'andite/anything-v4.0',\n",
    "    'model_name':'s3://bucket/<model floder>',\n",
    "    's3_bucket':bucket\n",
    "}\n",
    "\n",
    "print(f's3://{bucket}/{model_floder}/samples/sample-{count}.jpg')"
   ]
  },
  {
   "cell_type": "code",
   "execution_count": null,
   "id": "102d9521",
   "metadata": {},
   "outputs": [],
   "source": []
  }
 ],
 "metadata": {
  "instance_type": "ml.m5.large",
  "kernelspec": {
   "display_name": "conda_pytorch_p39",
   "language": "python",
   "name": "conda_pytorch_p39"
  },
  "language_info": {
   "codemirror_mode": {
    "name": "ipython",
    "version": 3
   },
   "file_extension": ".py",
   "mimetype": "text/x-python",
   "name": "python",
   "nbconvert_exporter": "python",
   "pygments_lexer": "ipython3",
   "version": "3.9.15"
  }
 },
 "nbformat": 4,
 "nbformat_minor": 5
}
